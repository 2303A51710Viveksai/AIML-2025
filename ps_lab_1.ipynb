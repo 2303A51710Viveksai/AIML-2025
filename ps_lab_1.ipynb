{
  "nbformat": 4,
  "nbformat_minor": 0,
  "metadata": {
    "colab": {
      "provenance": [],
      "authorship_tag": "ABX9TyPNs4y3e6gWxMOhDWPYYdpC",
      "include_colab_link": true
    },
    "kernelspec": {
      "name": "python3",
      "display_name": "Python 3"
    },
    "language_info": {
      "name": "python"
    }
  },
  "cells": [
    {
      "cell_type": "markdown",
      "metadata": {
        "id": "view-in-github",
        "colab_type": "text"
      },
      "source": [
        "<a href=\"https://colab.research.google.com/github/2303A51710Viveksai/AIML-2025/blob/main/ps_lab_1.ipynb\" target=\"_parent\"><img src=\"https://colab.research.google.com/assets/colab-badge.svg\" alt=\"Open In Colab\"/></a>"
      ]
    },
    {
      "cell_type": "code",
      "execution_count": 7,
      "metadata": {
        "colab": {
          "base_uri": "https://localhost:8080/"
        },
        "id": "HzWbEpAtGPDY",
        "outputId": "511e4463-f87a-43fd-8ce3-65c64d210c27"
      },
      "outputs": [
        {
          "output_type": "stream",
          "name": "stdout",
          "text": [
            "88.0\n"
          ]
        }
      ],
      "source": [
        "import numpy as np\n",
        "import pandas as pd\n",
        "import matplotlib as mpl\n",
        "data=[85,92,78,89,95,87,90]\n",
        "mean=sum(data)/len(data)\n",
        "print(mean)"
      ]
    },
    {
      "cell_type": "code",
      "source": [
        "values=[15,16,17,18,19,20]\n",
        "frequenices=[2,5,11,9,14,13]\n",
        "sum_fx=sum(f*x for f,x in zip(frequenices,values))\n",
        "sum_f=sum(frequenices)\n",
        "mean=sum_fx/sum_f\n",
        "print(mean)"
      ],
      "metadata": {
        "colab": {
          "base_uri": "https://localhost:8080/"
        },
        "id": "_ZfDz76OMW6S",
        "outputId": "5425f9ad-9364-4773-8628-41ff50330077"
      },
      "execution_count": 5,
      "outputs": [
        {
          "output_type": "stream",
          "name": "stdout",
          "text": [
            "18.24074074074074\n"
          ]
        }
      ]
    },
    {
      "cell_type": "code",
      "source": [
        "class_intervals=[(0,10),(10,20),(20,30),(30,40),(40,50),(50,60)]\n",
        "frequencies=[12,18,27,20,17,6]\n",
        "midpoints=[(start+end)/2 for start,end in class_intervals]\n",
        "sum_fm=sum(f*m for f,m in zip(frequencies,midpoints))\n",
        "sum_f=sum(frequencies)\n",
        "mean=sum_fm/sum_f\n",
        "print(mean)\n"
      ],
      "metadata": {
        "colab": {
          "base_uri": "https://localhost:8080/"
        },
        "id": "PnQZj04CPyXx",
        "outputId": "4b371bf1-362a-4c90-e0d6-53f61a88d48a"
      },
      "execution_count": 6,
      "outputs": [
        {
          "output_type": "stream",
          "name": "stdout",
          "text": [
            "28.0\n"
          ]
        }
      ]
    },
    {
      "cell_type": "code",
      "source": [
        "p=[10,12,23,23,16,23,21,16]\n",
        "np.var(p)"
      ],
      "metadata": {
        "colab": {
          "base_uri": "https://localhost:8080/"
        },
        "id": "sfRvGRF6R3Iu",
        "outputId": "10392eb8-2078-4670-9089-ae4928131643"
      },
      "execution_count": 12,
      "outputs": [
        {
          "output_type": "execute_result",
          "data": {
            "text/plain": [
              "24.0"
            ]
          },
          "metadata": {},
          "execution_count": 12
        }
      ]
    }
  ]
}